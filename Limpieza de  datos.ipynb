{
 "cells": [
  {
   "cell_type": "code",
   "execution_count": 2,
   "metadata": {},
   "outputs": [],
   "source": [
    "import pandas as pd"
   ]
  },
  {
   "cell_type": "markdown",
   "metadata": {},
   "source": [
    "### Cargar el dataset"
   ]
  },
  {
   "cell_type": "code",
   "execution_count": 3,
   "metadata": {},
   "outputs": [],
   "source": [
    "file_path = \"supply_chain_data.csv\"\n",
    "datos = pd.read_csv(file_path)"
   ]
  },
  {
   "cell_type": "markdown",
   "metadata": {},
   "source": [
    "### Mostrar las primeras filas del dataset"
   ]
  },
  {
   "cell_type": "code",
   "execution_count": 4,
   "metadata": {},
   "outputs": [
    {
     "data": {
      "text/html": [
       "<div>\n",
       "<style scoped>\n",
       "    .dataframe tbody tr th:only-of-type {\n",
       "        vertical-align: middle;\n",
       "    }\n",
       "\n",
       "    .dataframe tbody tr th {\n",
       "        vertical-align: top;\n",
       "    }\n",
       "\n",
       "    .dataframe thead th {\n",
       "        text-align: right;\n",
       "    }\n",
       "</style>\n",
       "<table border=\"1\" class=\"dataframe\">\n",
       "  <thead>\n",
       "    <tr style=\"text-align: right;\">\n",
       "      <th></th>\n",
       "      <th>Product type</th>\n",
       "      <th>SKU</th>\n",
       "      <th>Price</th>\n",
       "      <th>Availability</th>\n",
       "      <th>Number of products sold</th>\n",
       "      <th>Revenue generated</th>\n",
       "      <th>Customer demographics</th>\n",
       "      <th>Stock levels</th>\n",
       "      <th>Lead times</th>\n",
       "      <th>Order quantities</th>\n",
       "      <th>...</th>\n",
       "      <th>Location</th>\n",
       "      <th>Lead time</th>\n",
       "      <th>Production volumes</th>\n",
       "      <th>Manufacturing lead time</th>\n",
       "      <th>Manufacturing costs</th>\n",
       "      <th>Inspection results</th>\n",
       "      <th>Defect rates</th>\n",
       "      <th>Transportation modes</th>\n",
       "      <th>Routes</th>\n",
       "      <th>Costs</th>\n",
       "    </tr>\n",
       "  </thead>\n",
       "  <tbody>\n",
       "    <tr>\n",
       "      <th>0</th>\n",
       "      <td>haircare</td>\n",
       "      <td>SKU0</td>\n",
       "      <td>69.808006</td>\n",
       "      <td>55</td>\n",
       "      <td>802</td>\n",
       "      <td>8661.996792</td>\n",
       "      <td>Non-binary</td>\n",
       "      <td>58</td>\n",
       "      <td>7</td>\n",
       "      <td>96</td>\n",
       "      <td>...</td>\n",
       "      <td>Mumbai</td>\n",
       "      <td>29</td>\n",
       "      <td>215</td>\n",
       "      <td>29</td>\n",
       "      <td>46.279879</td>\n",
       "      <td>Pending</td>\n",
       "      <td>0.226410</td>\n",
       "      <td>Road</td>\n",
       "      <td>Route B</td>\n",
       "      <td>187.752075</td>\n",
       "    </tr>\n",
       "    <tr>\n",
       "      <th>1</th>\n",
       "      <td>skincare</td>\n",
       "      <td>SKU1</td>\n",
       "      <td>14.843523</td>\n",
       "      <td>95</td>\n",
       "      <td>736</td>\n",
       "      <td>7460.900065</td>\n",
       "      <td>Female</td>\n",
       "      <td>53</td>\n",
       "      <td>30</td>\n",
       "      <td>37</td>\n",
       "      <td>...</td>\n",
       "      <td>Mumbai</td>\n",
       "      <td>23</td>\n",
       "      <td>517</td>\n",
       "      <td>30</td>\n",
       "      <td>33.616769</td>\n",
       "      <td>Pending</td>\n",
       "      <td>4.854068</td>\n",
       "      <td>Road</td>\n",
       "      <td>Route B</td>\n",
       "      <td>503.065579</td>\n",
       "    </tr>\n",
       "    <tr>\n",
       "      <th>2</th>\n",
       "      <td>haircare</td>\n",
       "      <td>SKU2</td>\n",
       "      <td>11.319683</td>\n",
       "      <td>34</td>\n",
       "      <td>8</td>\n",
       "      <td>9577.749626</td>\n",
       "      <td>Unknown</td>\n",
       "      <td>1</td>\n",
       "      <td>10</td>\n",
       "      <td>88</td>\n",
       "      <td>...</td>\n",
       "      <td>Mumbai</td>\n",
       "      <td>12</td>\n",
       "      <td>971</td>\n",
       "      <td>27</td>\n",
       "      <td>30.688019</td>\n",
       "      <td>Pending</td>\n",
       "      <td>4.580593</td>\n",
       "      <td>Air</td>\n",
       "      <td>Route C</td>\n",
       "      <td>141.920282</td>\n",
       "    </tr>\n",
       "    <tr>\n",
       "      <th>3</th>\n",
       "      <td>skincare</td>\n",
       "      <td>SKU3</td>\n",
       "      <td>61.163343</td>\n",
       "      <td>68</td>\n",
       "      <td>83</td>\n",
       "      <td>7766.836426</td>\n",
       "      <td>Non-binary</td>\n",
       "      <td>23</td>\n",
       "      <td>13</td>\n",
       "      <td>59</td>\n",
       "      <td>...</td>\n",
       "      <td>Kolkata</td>\n",
       "      <td>24</td>\n",
       "      <td>937</td>\n",
       "      <td>18</td>\n",
       "      <td>35.624741</td>\n",
       "      <td>Fail</td>\n",
       "      <td>4.746649</td>\n",
       "      <td>Rail</td>\n",
       "      <td>Route A</td>\n",
       "      <td>254.776159</td>\n",
       "    </tr>\n",
       "    <tr>\n",
       "      <th>4</th>\n",
       "      <td>skincare</td>\n",
       "      <td>SKU4</td>\n",
       "      <td>4.805496</td>\n",
       "      <td>26</td>\n",
       "      <td>871</td>\n",
       "      <td>2686.505152</td>\n",
       "      <td>Non-binary</td>\n",
       "      <td>5</td>\n",
       "      <td>3</td>\n",
       "      <td>56</td>\n",
       "      <td>...</td>\n",
       "      <td>Delhi</td>\n",
       "      <td>5</td>\n",
       "      <td>414</td>\n",
       "      <td>3</td>\n",
       "      <td>92.065161</td>\n",
       "      <td>Fail</td>\n",
       "      <td>3.145580</td>\n",
       "      <td>Air</td>\n",
       "      <td>Route A</td>\n",
       "      <td>923.440632</td>\n",
       "    </tr>\n",
       "  </tbody>\n",
       "</table>\n",
       "<p>5 rows × 24 columns</p>\n",
       "</div>"
      ],
      "text/plain": [
       "  Product type   SKU      Price  Availability  Number of products sold  \\\n",
       "0     haircare  SKU0  69.808006            55                      802   \n",
       "1     skincare  SKU1  14.843523            95                      736   \n",
       "2     haircare  SKU2  11.319683            34                        8   \n",
       "3     skincare  SKU3  61.163343            68                       83   \n",
       "4     skincare  SKU4   4.805496            26                      871   \n",
       "\n",
       "   Revenue generated Customer demographics  Stock levels  Lead times  \\\n",
       "0        8661.996792            Non-binary            58           7   \n",
       "1        7460.900065                Female            53          30   \n",
       "2        9577.749626               Unknown             1          10   \n",
       "3        7766.836426            Non-binary            23          13   \n",
       "4        2686.505152            Non-binary             5           3   \n",
       "\n",
       "   Order quantities  ...  Location Lead time  Production volumes  \\\n",
       "0                96  ...    Mumbai        29                 215   \n",
       "1                37  ...    Mumbai        23                 517   \n",
       "2                88  ...    Mumbai        12                 971   \n",
       "3                59  ...   Kolkata        24                 937   \n",
       "4                56  ...     Delhi         5                 414   \n",
       "\n",
       "  Manufacturing lead time Manufacturing costs  Inspection results  \\\n",
       "0                      29           46.279879             Pending   \n",
       "1                      30           33.616769             Pending   \n",
       "2                      27           30.688019             Pending   \n",
       "3                      18           35.624741                Fail   \n",
       "4                       3           92.065161                Fail   \n",
       "\n",
       "   Defect rates  Transportation modes   Routes       Costs  \n",
       "0      0.226410                  Road  Route B  187.752075  \n",
       "1      4.854068                  Road  Route B  503.065579  \n",
       "2      4.580593                   Air  Route C  141.920282  \n",
       "3      4.746649                  Rail  Route A  254.776159  \n",
       "4      3.145580                   Air  Route A  923.440632  \n",
       "\n",
       "[5 rows x 24 columns]"
      ]
     },
     "execution_count": 4,
     "metadata": {},
     "output_type": "execute_result"
    }
   ],
   "source": [
    "datos.head()"
   ]
  },
  {
   "cell_type": "code",
   "execution_count": 5,
   "metadata": {},
   "outputs": [
    {
     "name": "stdout",
     "output_type": "stream",
     "text": [
      "<class 'pandas.core.frame.DataFrame'>\n",
      "RangeIndex: 100 entries, 0 to 99\n",
      "Data columns (total 24 columns):\n",
      " #   Column                   Non-Null Count  Dtype  \n",
      "---  ------                   --------------  -----  \n",
      " 0   Product type             100 non-null    object \n",
      " 1   SKU                      100 non-null    object \n",
      " 2   Price                    100 non-null    float64\n",
      " 3   Availability             100 non-null    int64  \n",
      " 4   Number of products sold  100 non-null    int64  \n",
      " 5   Revenue generated        100 non-null    float64\n",
      " 6   Customer demographics    100 non-null    object \n",
      " 7   Stock levels             100 non-null    int64  \n",
      " 8   Lead times               100 non-null    int64  \n",
      " 9   Order quantities         100 non-null    int64  \n",
      " 10  Shipping times           100 non-null    int64  \n",
      " 11  Shipping carriers        100 non-null    object \n",
      " 12  Shipping costs           100 non-null    float64\n",
      " 13  Supplier name            100 non-null    object \n",
      " 14  Location                 100 non-null    object \n",
      " 15  Lead time                100 non-null    int64  \n",
      " 16  Production volumes       100 non-null    int64  \n",
      " 17  Manufacturing lead time  100 non-null    int64  \n",
      " 18  Manufacturing costs      100 non-null    float64\n",
      " 19  Inspection results       100 non-null    object \n",
      " 20  Defect rates             100 non-null    float64\n",
      " 21  Transportation modes     100 non-null    object \n",
      " 22  Routes                   100 non-null    object \n",
      " 23  Costs                    100 non-null    float64\n",
      "dtypes: float64(6), int64(9), object(9)\n",
      "memory usage: 18.9+ KB\n",
      "None\n"
     ]
    }
   ],
   "source": [
    "print(datos.info())"
   ]
  },
  {
   "cell_type": "code",
   "execution_count": 7,
   "metadata": {},
   "outputs": [
    {
     "name": "stdout",
     "output_type": "stream",
     "text": [
      "       Product type   SKU       Price  Availability  Number of products sold  \\\n",
      "count           100   100  100.000000    100.000000               100.000000   \n",
      "unique            3   100         NaN           NaN                      NaN   \n",
      "top        skincare  SKU0         NaN           NaN                      NaN   \n",
      "freq             40     1         NaN           NaN                      NaN   \n",
      "mean            NaN   NaN   49.462461     48.400000               460.990000   \n",
      "std             NaN   NaN   31.168193     30.743317               303.780074   \n",
      "min             NaN   NaN    1.699976      1.000000                 8.000000   \n",
      "25%             NaN   NaN   19.597823     22.750000               184.250000   \n",
      "50%             NaN   NaN   51.239831     43.500000               392.500000   \n",
      "75%             NaN   NaN   77.198228     75.000000               704.250000   \n",
      "max             NaN   NaN   99.171329    100.000000               996.000000   \n",
      "\n",
      "        Revenue generated Customer demographics  Stock levels  Lead times  \\\n",
      "count          100.000000                   100    100.000000  100.000000   \n",
      "unique                NaN                     4           NaN         NaN   \n",
      "top                   NaN               Unknown           NaN         NaN   \n",
      "freq                  NaN                    31           NaN         NaN   \n",
      "mean          5776.048187                   NaN     47.770000   15.960000   \n",
      "std           2732.841744                   NaN     31.369372    8.785801   \n",
      "min           1061.618523                   NaN      0.000000    1.000000   \n",
      "25%           2812.847151                   NaN     16.750000    8.000000   \n",
      "50%           6006.352023                   NaN     47.500000   17.000000   \n",
      "75%           8253.976921                   NaN     73.000000   24.000000   \n",
      "max           9866.465458                   NaN    100.000000   30.000000   \n",
      "\n",
      "        Order quantities  ...  Location   Lead time  Production volumes  \\\n",
      "count         100.000000  ...       100  100.000000          100.000000   \n",
      "unique               NaN  ...         5         NaN                 NaN   \n",
      "top                  NaN  ...   Kolkata         NaN                 NaN   \n",
      "freq                 NaN  ...        25         NaN                 NaN   \n",
      "mean           49.220000  ...       NaN   17.080000          567.840000   \n",
      "std            26.784429  ...       NaN    8.846251          263.046861   \n",
      "min             1.000000  ...       NaN    1.000000          104.000000   \n",
      "25%            26.000000  ...       NaN   10.000000          352.000000   \n",
      "50%            52.000000  ...       NaN   18.000000          568.500000   \n",
      "75%            71.250000  ...       NaN   25.000000          797.000000   \n",
      "max            96.000000  ...       NaN   30.000000          985.000000   \n",
      "\n",
      "       Manufacturing lead time Manufacturing costs  Inspection results  \\\n",
      "count                100.00000          100.000000                 100   \n",
      "unique                     NaN                 NaN                   3   \n",
      "top                        NaN                 NaN             Pending   \n",
      "freq                       NaN                 NaN                  41   \n",
      "mean                  14.77000           47.266693                 NaN   \n",
      "std                    8.91243           28.982841                 NaN   \n",
      "min                    1.00000            1.085069                 NaN   \n",
      "25%                    7.00000           22.983299                 NaN   \n",
      "50%                   14.00000           45.905622                 NaN   \n",
      "75%                   23.00000           68.621026                 NaN   \n",
      "max                   30.00000           99.466109                 NaN   \n",
      "\n",
      "        Defect rates  Transportation modes   Routes       Costs  \n",
      "count     100.000000                   100      100  100.000000  \n",
      "unique           NaN                     4        3         NaN  \n",
      "top              NaN                  Road  Route A         NaN  \n",
      "freq             NaN                    29       43         NaN  \n",
      "mean        2.277158                   NaN      NaN  529.245782  \n",
      "std         1.461366                   NaN      NaN  258.301696  \n",
      "min         0.018608                   NaN      NaN  103.916248  \n",
      "25%         1.009650                   NaN      NaN  318.778455  \n",
      "50%         2.141863                   NaN      NaN  520.430444  \n",
      "75%         3.563995                   NaN      NaN  763.078231  \n",
      "max         4.939255                   NaN      NaN  997.413450  \n",
      "\n",
      "[11 rows x 24 columns]\n"
     ]
    }
   ],
   "source": [
    "print(datos.describe(include='all'))"
   ]
  },
  {
   "cell_type": "code",
   "execution_count": 8,
   "metadata": {},
   "outputs": [
    {
     "name": "stdout",
     "output_type": "stream",
     "text": [
      "Index(['Product type', 'SKU', 'Price', 'Availability',\n",
      "       'Number of products sold', 'Revenue generated', 'Customer demographics',\n",
      "       'Stock levels', 'Lead times', 'Order quantities', 'Shipping times',\n",
      "       'Shipping carriers', 'Shipping costs', 'Supplier name', 'Location',\n",
      "       'Lead time', 'Production volumes', 'Manufacturing lead time',\n",
      "       'Manufacturing costs', 'Inspection results', 'Defect rates',\n",
      "       'Transportation modes', 'Routes', 'Costs'],\n",
      "      dtype='object')\n"
     ]
    }
   ],
   "source": [
    "print(datos.columns)"
   ]
  },
  {
   "cell_type": "code",
   "execution_count": 9,
   "metadata": {},
   "outputs": [],
   "source": [
    "# Renombrar columnas\n",
    "datos.columns = datos.columns.str.strip().str.lower().str.replace(' ', '_')"
   ]
  },
  {
   "cell_type": "code",
   "execution_count": 10,
   "metadata": {},
   "outputs": [
    {
     "name": "stdout",
     "output_type": "stream",
     "text": [
      "product_type               0\n",
      "sku                        0\n",
      "price                      0\n",
      "availability               0\n",
      "number_of_products_sold    0\n",
      "revenue_generated          0\n",
      "customer_demographics      0\n",
      "stock_levels               0\n",
      "lead_times                 0\n",
      "order_quantities           0\n",
      "shipping_times             0\n",
      "shipping_carriers          0\n",
      "shipping_costs             0\n",
      "supplier_name              0\n",
      "location                   0\n",
      "lead_time                  0\n",
      "production_volumes         0\n",
      "manufacturing_lead_time    0\n",
      "manufacturing_costs        0\n",
      "inspection_results         0\n",
      "defect_rates               0\n",
      "transportation_modes       0\n",
      "routes                     0\n",
      "costs                      0\n",
      "dtype: int64\n"
     ]
    }
   ],
   "source": [
    "# Verificar valores nulos por columna\n",
    "print(datos.isnull().sum())"
   ]
  },
  {
   "cell_type": "code",
   "execution_count": 14,
   "metadata": {},
   "outputs": [],
   "source": [
    "# Eliminar duplicados\n",
    "datos = datos.drop_duplicates()"
   ]
  },
  {
   "cell_type": "code",
   "execution_count": 15,
   "metadata": {},
   "outputs": [
    {
     "name": "stdout",
     "output_type": "stream",
     "text": [
      "Outliers detectados en la columna price: 0\n",
      "Outliers detectados en la columna number_of_products_sold: 0\n",
      "Outliers detectados en la columna revenue_generated: 0\n",
      "Outliers detectados en la columna stock_levels: 0\n",
      "Outliers detectados en la columna shipping_costs: 0\n",
      "Outliers detectados en la columna manufacturing_costs: 0\n"
     ]
    }
   ],
   "source": [
    "# Identificar columnas numéricas\n",
    "columnas_numericas = ['price', 'number_of_products_sold', 'revenue_generated', \n",
    "                      'stock_levels', 'shipping_costs', 'manufacturing_costs']\n",
    "\n",
    "# Detectar outliers para cada columna numérica\n",
    "for columna in columnas_numericas:\n",
    "    q1 = datos[columna].quantile(0.25)  # Primer cuartil\n",
    "    q3 = datos[columna].quantile(0.75)  # Tercer cuartil\n",
    "    iqr = q3 - q1                        # Rango intercuartílico\n",
    "    limite_inferior = q1 - 1.5 * iqr     # Límite inferior\n",
    "    limite_superior = q3 + 1.5 * iqr     # Límite superior\n",
    "    \n",
    "    # Filtrar y mostrar valores fuera de los límites\n",
    "    outliers = datos[(datos[columna] < limite_inferior) | (datos[columna] > limite_superior)]\n",
    "    print(f\"Outliers detectados en la columna {columna}: {len(outliers)}\")\n"
   ]
  },
  {
   "cell_type": "code",
   "execution_count": 16,
   "metadata": {},
   "outputs": [],
   "source": [
    "datos['profit_margin'] = ((datos['revenue_generated'] - datos['manufacturing_costs']) / \n",
    "                          datos['revenue_generated']) * 100"
   ]
  },
  {
   "cell_type": "code",
   "execution_count": 17,
   "metadata": {},
   "outputs": [],
   "source": [
    "datos['average_cost_per_product'] = datos['revenue_generated'] / datos['number_of_products_sold']"
   ]
  },
  {
   "cell_type": "code",
   "execution_count": 18,
   "metadata": {},
   "outputs": [],
   "source": [
    "# Exportar el DataFrame limpio a CSV\n",
    "datos.to_csv(\"supply_chain_cleaned.csv\", index=False)"
   ]
  }
 ],
 "metadata": {
  "kernelspec": {
   "display_name": "Python 3",
   "language": "python",
   "name": "python3"
  },
  "language_info": {
   "codemirror_mode": {
    "name": "ipython",
    "version": 3
   },
   "file_extension": ".py",
   "mimetype": "text/x-python",
   "name": "python",
   "nbconvert_exporter": "python",
   "pygments_lexer": "ipython3",
   "version": "3.12.2"
  }
 },
 "nbformat": 4,
 "nbformat_minor": 2
}
